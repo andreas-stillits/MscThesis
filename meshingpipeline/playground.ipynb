{
 "cells": [
  {
   "cell_type": "code",
   "execution_count": 16,
   "id": "b7ec23cb",
   "metadata": {},
   "outputs": [],
   "source": [
    "import numpy as np \n",
    "\n",
    "def create_voxel_sphere(shape=(64, 64, 64), center=None, radius=20):\n",
    "    \"\"\"\n",
    "    Create a binary 3D numpy array representing a sphere.\n",
    "\n",
    "    Parameters:\n",
    "        shape (tuple): The shape of the 3D array (x, y, z).\n",
    "        center (tuple): The center of the sphere (x, y, z). Defaults to center of the array.\n",
    "        radius (int or float): The radius of the sphere.\n",
    "\n",
    "    Returns:\n",
    "        np.ndarray: Binary 3D array with 1s inside the sphere, 0s outside.\n",
    "    \"\"\"\n",
    "    if center is None:\n",
    "        center = tuple(s // 2 for s in shape) # place it at the center if no center is provided\n",
    "    xx, yy, zz = np.indices(shape)\n",
    "    distance = np.sqrt((xx - center[0])**2 + (yy - center[1])**2 + (zz - center[2])**2)\n",
    "    return (distance <= radius).astype(np.uint8)\n",
    "\n",
    "# Example usage:\n",
    "voxel_sphere = create_voxel_sphere(shape=(64, 64, 64), radius=16)\n",
    "np.save('sphere.npy', voxel_sphere)"
   ]
  }
 ],
 "metadata": {
  "kernelspec": {
   "display_name": "meshing",
   "language": "python",
   "name": "python3"
  },
  "language_info": {
   "codemirror_mode": {
    "name": "ipython",
    "version": 3
   },
   "file_extension": ".py",
   "mimetype": "text/x-python",
   "name": "python",
   "nbconvert_exporter": "python",
   "pygments_lexer": "ipython3",
   "version": "3.12.11"
  }
 },
 "nbformat": 4,
 "nbformat_minor": 5
}
