{
 "cells": [
  {
   "cell_type": "code",
   "execution_count": null,
   "id": "8e703e60",
   "metadata": {},
   "outputs": [],
   "source": [
    "import numpy as np \n",
    "\n",
    "\n",
    "# create a voxel representation with n spheres at random centers and radii that do not overlap\n",
    "def create_n_spheres_voxel(resolution, n, min_radius, max_radius, max_attempts=1000):\n",
    "    x = np.linspace(-1, 1, resolution)\n",
    "    y = np.linspace(-1, 1, resolution)\n",
    "    z = np.linspace(-1, 1, resolution)\n",
    "    X, Y, Z = np.meshgrid(x, y, z, indexing='ij')\n",
    "\n",
    "    voxel = np.zeros((resolution, resolution, resolution), dtype=np.uint8)\n",
    "    centers = []\n",
    "    radii = []\n",
    "\n",
    "    for i in range(n):\n",
    "        attempts = 0\n",
    "        while attempts < max_attempts:\n",
    "            center = (np.random.uniform(-0.8, 0.8), np.random.uniform(-0.8, 0.8), np.random.uniform(-0.8, 0.8))\n",
    "            radius = np.random.uniform(min_radius, max_radius)\n",
    "            if all(np.linalg.norm(np.array(center) - np.array(c)) > (radius + r) for c, r in zip(centers, radii)):\n",
    "                centers.append(center)\n",
    "                radii.append(radius)\n",
    "                break\n",
    "            attempts += 1\n",
    "        else:\n",
    "            print(f\"Warning: Only packed {len(centers)} spheres out of {n} after {max_attempts} attempts.\")\n",
    "            break\n",
    "\n",
    "        dist = np.sqrt((X - center[0])**2 + (Y - center[1])**2 + (Z - center[2])**2)\n",
    "        voxel |= (dist <= radius).astype(np.uint8)\n",
    "\n",
    "    return voxel\n",
    "\n",
    "resolution = 64\n",
    "n = 10\n",
    "min_radius = 0.05\n",
    "max_radius = 0.15\n",
    "\n",
    "n_spheres_voxel = create_n_spheres_voxel(resolution, n, min_radius, max_radius)\n",
    "np.save(\"data/n_spheres.npy\", n_spheres_voxel)\n"
   ]
  }
 ],
 "metadata": {
  "language_info": {
   "name": "python"
  }
 },
 "nbformat": 4,
 "nbformat_minor": 5
}
